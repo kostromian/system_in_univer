{
 "cells": [
  {
   "cell_type": "code",
   "execution_count": 1,
   "metadata": {},
   "outputs": [],
   "source": [
    "import pandas as pd\n",
    "import numpy as np\n",
    "import scipy.stats\n",
    "import statistics\n",
    "from scipy import stats\n",
    "from scipy.stats import norm, kurtosis\n",
    "import matplotlib.pyplot as plt"
   ]
  },
  {
   "cell_type": "code",
   "execution_count": 2,
   "metadata": {},
   "outputs": [],
   "source": [
    "df = pd.read_excel('C:\\\\Users\\\\User\\\\Downloads\\\\ms-data1 (2).xlsx', sheet_name = '2')"
   ]
  },
  {
   "cell_type": "code",
   "execution_count": 3,
   "metadata": {},
   "outputs": [
    {
     "data": {
      "text/html": [
       "<div>\n",
       "<style scoped>\n",
       "    .dataframe tbody tr th:only-of-type {\n",
       "        vertical-align: middle;\n",
       "    }\n",
       "\n",
       "    .dataframe tbody tr th {\n",
       "        vertical-align: top;\n",
       "    }\n",
       "\n",
       "    .dataframe thead th {\n",
       "        text-align: right;\n",
       "    }\n",
       "</style>\n",
       "<table border=\"1\" class=\"dataframe\">\n",
       "  <thead>\n",
       "    <tr style=\"text-align: right;\">\n",
       "      <th></th>\n",
       "      <th>one</th>\n",
       "      <th>two</th>\n",
       "      <th>three</th>\n",
       "      <th>four</th>\n",
       "      <th>five</th>\n",
       "      <th>six</th>\n",
       "      <th>seven</th>\n",
       "    </tr>\n",
       "  </thead>\n",
       "  <tbody>\n",
       "    <tr>\n",
       "      <th>0</th>\n",
       "      <td>-16.427992</td>\n",
       "      <td>10.337568</td>\n",
       "      <td>10.094972</td>\n",
       "      <td>12.235925</td>\n",
       "      <td>10</td>\n",
       "      <td>16</td>\n",
       "      <td>-2.336080</td>\n",
       "    </tr>\n",
       "    <tr>\n",
       "      <th>1</th>\n",
       "      <td>-29.368694</td>\n",
       "      <td>20.601542</td>\n",
       "      <td>15.573639</td>\n",
       "      <td>12.159321</td>\n",
       "      <td>6</td>\n",
       "      <td>15</td>\n",
       "      <td>5.041232</td>\n",
       "    </tr>\n",
       "    <tr>\n",
       "      <th>2</th>\n",
       "      <td>-6.561724</td>\n",
       "      <td>1.876631</td>\n",
       "      <td>2.625150</td>\n",
       "      <td>24.552468</td>\n",
       "      <td>10</td>\n",
       "      <td>14</td>\n",
       "      <td>6.987623</td>\n",
       "    </tr>\n",
       "    <tr>\n",
       "      <th>3</th>\n",
       "      <td>7.358867</td>\n",
       "      <td>17.243398</td>\n",
       "      <td>15.855155</td>\n",
       "      <td>12.348476</td>\n",
       "      <td>9</td>\n",
       "      <td>14</td>\n",
       "      <td>9.542421</td>\n",
       "    </tr>\n",
       "    <tr>\n",
       "      <th>4</th>\n",
       "      <td>6.692038</td>\n",
       "      <td>-23.179041</td>\n",
       "      <td>11.742064</td>\n",
       "      <td>19.597243</td>\n",
       "      <td>9</td>\n",
       "      <td>15</td>\n",
       "      <td>11.116361</td>\n",
       "    </tr>\n",
       "  </tbody>\n",
       "</table>\n",
       "</div>"
      ],
      "text/plain": [
       "         one        two      three       four  five  six      seven\n",
       "0 -16.427992  10.337568  10.094972  12.235925    10   16  -2.336080\n",
       "1 -29.368694  20.601542  15.573639  12.159321     6   15   5.041232\n",
       "2  -6.561724   1.876631   2.625150  24.552468    10   14   6.987623\n",
       "3   7.358867  17.243398  15.855155  12.348476     9   14   9.542421\n",
       "4   6.692038 -23.179041  11.742064  19.597243     9   15  11.116361"
      ]
     },
     "execution_count": 3,
     "metadata": {},
     "output_type": "execute_result"
    }
   ],
   "source": [
    "df.head()"
   ]
  },
  {
   "cell_type": "markdown",
   "metadata": {},
   "source": [
    "## Проведём предварительный анализ, включающий:\n",
    "* оценку числовых характеристик (по 2 в каждой из групп; оформить в виде таблицы);\n",
    "* графический анализ;\n",
    "* предварительное заключение о законе распределения каждой случайной величины;"
   ]
  },
  {
   "cell_type": "code",
   "execution_count": 4,
   "metadata": {},
   "outputs": [
    {
     "data": {
      "text/html": [
       "<div>\n",
       "<style scoped>\n",
       "    .dataframe tbody tr th:only-of-type {\n",
       "        vertical-align: middle;\n",
       "    }\n",
       "\n",
       "    .dataframe tbody tr th {\n",
       "        vertical-align: top;\n",
       "    }\n",
       "\n",
       "    .dataframe thead th {\n",
       "        text-align: right;\n",
       "    }\n",
       "</style>\n",
       "<table border=\"1\" class=\"dataframe\">\n",
       "  <thead>\n",
       "    <tr style=\"text-align: right;\">\n",
       "      <th></th>\n",
       "      <th>one</th>\n",
       "      <th>two</th>\n",
       "      <th>three</th>\n",
       "      <th>four</th>\n",
       "      <th>five</th>\n",
       "      <th>six</th>\n",
       "      <th>seven</th>\n",
       "    </tr>\n",
       "  </thead>\n",
       "  <tbody>\n",
       "    <tr>\n",
       "      <th>count</th>\n",
       "      <td>500.000000</td>\n",
       "      <td>500.000000</td>\n",
       "      <td>500.000000</td>\n",
       "      <td>500.000000</td>\n",
       "      <td>500.000000</td>\n",
       "      <td>500.000000</td>\n",
       "      <td>500.000000</td>\n",
       "    </tr>\n",
       "    <tr>\n",
       "      <th>mean</th>\n",
       "      <td>-10.356208</td>\n",
       "      <td>8.813767</td>\n",
       "      <td>8.815445</td>\n",
       "      <td>12.626233</td>\n",
       "      <td>8.392000</td>\n",
       "      <td>12.114000</td>\n",
       "      <td>7.921503</td>\n",
       "    </tr>\n",
       "    <tr>\n",
       "      <th>std</th>\n",
       "      <td>13.584549</td>\n",
       "      <td>18.327286</td>\n",
       "      <td>13.410601</td>\n",
       "      <td>6.991504</td>\n",
       "      <td>1.627154</td>\n",
       "      <td>3.368635</td>\n",
       "      <td>3.833575</td>\n",
       "    </tr>\n",
       "    <tr>\n",
       "      <th>min</th>\n",
       "      <td>-33.870846</td>\n",
       "      <td>-49.504520</td>\n",
       "      <td>-28.674916</td>\n",
       "      <td>-7.461513</td>\n",
       "      <td>3.000000</td>\n",
       "      <td>3.000000</td>\n",
       "      <td>-5.948884</td>\n",
       "    </tr>\n",
       "    <tr>\n",
       "      <th>25%</th>\n",
       "      <td>-22.278191</td>\n",
       "      <td>-3.051858</td>\n",
       "      <td>-0.717933</td>\n",
       "      <td>7.874639</td>\n",
       "      <td>7.000000</td>\n",
       "      <td>10.000000</td>\n",
       "      <td>5.430496</td>\n",
       "    </tr>\n",
       "    <tr>\n",
       "      <th>50%</th>\n",
       "      <td>-9.587024</td>\n",
       "      <td>8.710024</td>\n",
       "      <td>8.947190</td>\n",
       "      <td>12.756511</td>\n",
       "      <td>8.000000</td>\n",
       "      <td>12.000000</td>\n",
       "      <td>7.737115</td>\n",
       "    </tr>\n",
       "    <tr>\n",
       "      <th>75%</th>\n",
       "      <td>1.684851</td>\n",
       "      <td>20.505862</td>\n",
       "      <td>18.168010</td>\n",
       "      <td>17.091330</td>\n",
       "      <td>10.000000</td>\n",
       "      <td>14.000000</td>\n",
       "      <td>10.567242</td>\n",
       "    </tr>\n",
       "    <tr>\n",
       "      <th>max</th>\n",
       "      <td>11.894711</td>\n",
       "      <td>62.953554</td>\n",
       "      <td>51.361200</td>\n",
       "      <td>35.343018</td>\n",
       "      <td>12.000000</td>\n",
       "      <td>26.000000</td>\n",
       "      <td>20.426754</td>\n",
       "    </tr>\n",
       "  </tbody>\n",
       "</table>\n",
       "</div>"
      ],
      "text/plain": [
       "              one         two       three        four        five         six  \\\n",
       "count  500.000000  500.000000  500.000000  500.000000  500.000000  500.000000   \n",
       "mean   -10.356208    8.813767    8.815445   12.626233    8.392000   12.114000   \n",
       "std     13.584549   18.327286   13.410601    6.991504    1.627154    3.368635   \n",
       "min    -33.870846  -49.504520  -28.674916   -7.461513    3.000000    3.000000   \n",
       "25%    -22.278191   -3.051858   -0.717933    7.874639    7.000000   10.000000   \n",
       "50%     -9.587024    8.710024    8.947190   12.756511    8.000000   12.000000   \n",
       "75%      1.684851   20.505862   18.168010   17.091330   10.000000   14.000000   \n",
       "max     11.894711   62.953554   51.361200   35.343018   12.000000   26.000000   \n",
       "\n",
       "            seven  \n",
       "count  500.000000  \n",
       "mean     7.921503  \n",
       "std      3.833575  \n",
       "min     -5.948884  \n",
       "25%      5.430496  \n",
       "50%      7.737115  \n",
       "75%     10.567242  \n",
       "max     20.426754  "
      ]
     },
     "execution_count": 4,
     "metadata": {},
     "output_type": "execute_result"
    }
   ],
   "source": [
    "df.describe()"
   ]
  },
  {
   "cell_type": "code",
   "execution_count": 5,
   "metadata": {},
   "outputs": [
    {
     "data": {
      "text/plain": [
       "one       45.765557\n",
       "two      112.458074\n",
       "three     80.036116\n",
       "four      42.804531\n",
       "five       9.000000\n",
       "six       23.000000\n",
       "seven     26.375637\n",
       "dtype: float64"
      ]
     },
     "execution_count": 5,
     "metadata": {},
     "output_type": "execute_result"
    }
   ],
   "source": [
    "specifications = df.describe().loc[['mean','std','50%'],:]\n",
    "scope_variation = df.max() - df.min()\n",
    "scope_variation"
   ]
  },
  {
   "cell_type": "code",
   "execution_count": 6,
   "metadata": {},
   "outputs": [
    {
     "data": {
      "text/html": [
       "<div>\n",
       "<style scoped>\n",
       "    .dataframe tbody tr th:only-of-type {\n",
       "        vertical-align: middle;\n",
       "    }\n",
       "\n",
       "    .dataframe tbody tr th {\n",
       "        vertical-align: top;\n",
       "    }\n",
       "\n",
       "    .dataframe thead th {\n",
       "        text-align: right;\n",
       "    }\n",
       "</style>\n",
       "<table border=\"1\" class=\"dataframe\">\n",
       "  <thead>\n",
       "    <tr style=\"text-align: right;\">\n",
       "      <th></th>\n",
       "      <th>one</th>\n",
       "      <th>two</th>\n",
       "      <th>three</th>\n",
       "      <th>four</th>\n",
       "      <th>five</th>\n",
       "      <th>six</th>\n",
       "      <th>seven</th>\n",
       "    </tr>\n",
       "  </thead>\n",
       "  <tbody>\n",
       "    <tr>\n",
       "      <th>mean</th>\n",
       "      <td>-10.356208</td>\n",
       "      <td>8.813767</td>\n",
       "      <td>8.815445</td>\n",
       "      <td>12.626233</td>\n",
       "      <td>8.392000</td>\n",
       "      <td>12.114000</td>\n",
       "      <td>7.921503</td>\n",
       "    </tr>\n",
       "    <tr>\n",
       "      <th>std</th>\n",
       "      <td>13.584549</td>\n",
       "      <td>18.327286</td>\n",
       "      <td>13.410601</td>\n",
       "      <td>6.991504</td>\n",
       "      <td>1.627154</td>\n",
       "      <td>3.368635</td>\n",
       "      <td>3.833575</td>\n",
       "    </tr>\n",
       "    <tr>\n",
       "      <th>50%</th>\n",
       "      <td>-9.587024</td>\n",
       "      <td>8.710024</td>\n",
       "      <td>8.947190</td>\n",
       "      <td>12.756511</td>\n",
       "      <td>8.000000</td>\n",
       "      <td>12.000000</td>\n",
       "      <td>7.737115</td>\n",
       "    </tr>\n",
       "    <tr>\n",
       "      <th>variance</th>\n",
       "      <td>184.539975</td>\n",
       "      <td>335.889412</td>\n",
       "      <td>179.844218</td>\n",
       "      <td>48.881130</td>\n",
       "      <td>2.647631</td>\n",
       "      <td>11.347699</td>\n",
       "      <td>14.696298</td>\n",
       "    </tr>\n",
       "    <tr>\n",
       "      <th>scope_variation</th>\n",
       "      <td>45.765557</td>\n",
       "      <td>112.458074</td>\n",
       "      <td>80.036116</td>\n",
       "      <td>42.804531</td>\n",
       "      <td>9.000000</td>\n",
       "      <td>23.000000</td>\n",
       "      <td>26.375637</td>\n",
       "    </tr>\n",
       "    <tr>\n",
       "      <th>kurtosis</th>\n",
       "      <td>-1.246367</td>\n",
       "      <td>0.287275</td>\n",
       "      <td>-0.229775</td>\n",
       "      <td>0.027581</td>\n",
       "      <td>-0.343639</td>\n",
       "      <td>0.354309</td>\n",
       "      <td>0.301399</td>\n",
       "    </tr>\n",
       "    <tr>\n",
       "      <th>mode</th>\n",
       "      <td>-18.815943</td>\n",
       "      <td>-23.627036</td>\n",
       "      <td>8.427380</td>\n",
       "      <td>21.798782</td>\n",
       "      <td>9.000000</td>\n",
       "      <td>12.000000</td>\n",
       "      <td>7.971697</td>\n",
       "    </tr>\n",
       "    <tr>\n",
       "      <th>skewness</th>\n",
       "      <td>0.622747</td>\n",
       "      <td>1.770082</td>\n",
       "      <td>0.028937</td>\n",
       "      <td>-1.311957</td>\n",
       "      <td>-0.373658</td>\n",
       "      <td>0.033842</td>\n",
       "      <td>-0.013093</td>\n",
       "    </tr>\n",
       "  </tbody>\n",
       "</table>\n",
       "</div>"
      ],
      "text/plain": [
       "                        one         two       three       four      five  \\\n",
       "mean             -10.356208    8.813767    8.815445  12.626233  8.392000   \n",
       "std               13.584549   18.327286   13.410601   6.991504  1.627154   \n",
       "50%               -9.587024    8.710024    8.947190  12.756511  8.000000   \n",
       "variance         184.539975  335.889412  179.844218  48.881130  2.647631   \n",
       "scope_variation   45.765557  112.458074   80.036116  42.804531  9.000000   \n",
       "kurtosis          -1.246367    0.287275   -0.229775   0.027581 -0.343639   \n",
       "mode             -18.815943  -23.627036    8.427380  21.798782  9.000000   \n",
       "skewness           0.622747    1.770082    0.028937  -1.311957 -0.373658   \n",
       "\n",
       "                       six      seven  \n",
       "mean             12.114000   7.921503  \n",
       "std               3.368635   3.833575  \n",
       "50%              12.000000   7.737115  \n",
       "variance         11.347699  14.696298  \n",
       "scope_variation  23.000000  26.375637  \n",
       "kurtosis          0.354309   0.301399  \n",
       "mode             12.000000   7.971697  \n",
       "skewness          0.033842  -0.013093  "
      ]
     },
     "execution_count": 6,
     "metadata": {},
     "output_type": "execute_result"
    }
   ],
   "source": [
    "for unique in specifications:\n",
    "    # Посчитаем дисперсию\n",
    "    specifications.loc['variance', unique] = df[unique].var()\n",
    "    # Размах вариации\n",
    "    specifications.loc['scope_variation', unique] = scope_variation[unique]\n",
    "    # Коэффициент эксцесса\n",
    "    specifications.loc['kurtosis', unique] =  scipy.stats.kurtosis(df[unique], fisher = True)\n",
    "    # Моду\n",
    "    specifications.loc['mode', unique] =  df[unique].value_counts(ascending = False).head(1).index[0]\n",
    "    # Коэффициент асимметрии\n",
    "    specifications.loc['skewness', unique] = (specifications.loc['mean', unique] \n",
    "                                              - specifications.loc['mode', unique]) / specifications.loc['std', unique]\n",
    "\n",
    "    \n",
    "specifications"
   ]
  },
  {
   "cell_type": "code",
   "execution_count": 7,
   "metadata": {},
   "outputs": [
    {
     "data": {
      "text/plain": [
       "Index(['one', 'two', 'three', 'four', 'five', 'six', 'seven'], dtype='object')"
      ]
     },
     "execution_count": 7,
     "metadata": {},
     "output_type": "execute_result"
    }
   ],
   "source": [
    "df.columns"
   ]
  },
  {
   "cell_type": "code",
   "execution_count": 8,
   "metadata": {},
   "outputs": [
    {
     "data": {
      "image/png": "[encoded data removed]",
      "text/plain": [
       "<Figure size 864x576 with 1 Axes>"
      ]
     },
     "metadata": {
      "needs_background": "light"
     },
     "output_type": "display_data"
    }
   ],
   "source": [
    "df.plot(kind = 'hist', figsize = (12, 8), bins = 50, alpha = 0.75);"
   ]
  },
  {
   "cell_type": "code",
   "execution_count": 9,
   "metadata": {},
   "outputs": [
    {
     "data": {
      "image/png": "[encoded data removed]",
      "text/plain": [
       "<Figure size 720x720 with 9 Axes>"
      ]
     },
     "metadata": {
      "needs_background": "light"
     },
     "output_type": "display_data"
    }
   ],
   "source": [
    "df.hist(figsize = (10,10));"
   ]
  },
  {
   "cell_type": "markdown",
   "metadata": {},
   "source": [
    "Все гистограммы кроме гистограммы первой выборки, её мы назовём условно равномерной, могли бы подходить под описание нормального распределения в силу унимодальности, отсутствия выбросов и колокообразной формы распределения."
   ]
  },
  {
   "cell_type": "markdown",
   "metadata": {},
   "source": [
    " ### Провести проверку на выбросы. В случае выброса – повторить п.1, дополнить таблицу. "
   ]
  },
  {
   "cell_type": "code",
   "execution_count": 10,
   "metadata": {},
   "outputs": [],
   "source": [
    "columns_name = list(df.columns)"
   ]
  },
  {
   "cell_type": "code",
   "execution_count": 11,
   "metadata": {},
   "outputs": [
    {
     "data": {
      "image/png": "[encoded data removed]",
      "text/plain": [
       "<Figure size 792x792 with 7 Axes>"
      ]
     },
     "metadata": {
      "needs_background": "light"
     },
     "output_type": "display_data"
    }
   ],
   "source": [
    "fig, axs = plt.subplots(1, 2, figsize=(12, 5))\n",
    "for i in range(len(columns_name)):\n",
    "    plt.subplot(3, 3, i+1)\n",
    "    df.loc[:, columns_name[i]].plot( kind ='box' , figsize = (11,11));\n",
    "fig.suptitle('\"Boxplot\" по выборкам');"
   ]
  },
  {
   "cell_type": "markdown",
   "metadata": {},
   "source": [
    "Уберём все значения, выходящие за 1.5 межквартильных размаха:"
   ]
  },
  {
   "cell_type": "code",
   "execution_count": 12,
   "metadata": {},
   "outputs": [],
   "source": [
    "def scope_quartile (data,atribut):\n",
    "    per_cent_75 = data[atribut].describe()['75%']\n",
    "    per_cent_25 = data[atribut].describe()['25%']\n",
    "    return (per_cent_75 - per_cent_25)*3/2"
   ]
  },
  {
   "cell_type": "code",
   "execution_count": 13,
   "metadata": {},
   "outputs": [],
   "source": [
    "def delete(data,atribut):\n",
    "    plt.subplot(1, 2, 1)\n",
    "    data[atribut].plot(figsize = (12,6), kind = 'box', grid = True, title =\"Boxplot '{}' распределения до преобразований\".format(atribut));\n",
    "    per_cent_75 = data[atribut].describe()['75%']\n",
    "    per_cent_25 = data[atribut].describe()['25%']\n",
    "    scope = scope_quartile (data,atribut)\n",
    "    new_data = data[ (data[atribut] > per_cent_25 - scope)\n",
    "               & (data[atribut] < per_cent_75 + scope)]\n",
    "    plt.subplot(1, 2, 2)\n",
    "    new_data[atribut].plot(kind = 'box', grid = True, title =\"Boxplot '{}' распределения после преобразований\".format(atribut));\n",
    "    return new_data[atribut]"
   ]
  },
  {
   "cell_type": "code",
   "execution_count": 14,
   "metadata": {},
   "outputs": [
    {
     "data": {
      "image/png": "[encoded data removed]",
      "text/plain": [
       "<Figure size 864x432 with 2 Axes>"
      ]
     },
     "metadata": {
      "needs_background": "light"
     },
     "output_type": "display_data"
    }
   ],
   "source": [
    "one = delete(df, 'one');"
   ]
  },
  {
   "cell_type": "code",
   "execution_count": 15,
   "metadata": {},
   "outputs": [
    {
     "data": {
      "image/png": "[encoded data removed]",
      "text/plain": [
       "<Figure size 864x432 with 2 Axes>"
      ]
     },
     "metadata": {
      "needs_background": "light"
     },
     "output_type": "display_data"
    }
   ],
   "source": [
    "two = delete(df, 'two');"
   ]
  },
  {
   "cell_type": "code",
   "execution_count": 16,
   "metadata": {},
   "outputs": [
    {
     "data": {
      "image/png": "[encoded data removed]",
      "text/plain": [
       "<Figure size 864x432 with 2 Axes>"
      ]
     },
     "metadata": {
      "needs_background": "light"
     },
     "output_type": "display_data"
    }
   ],
   "source": [
    "three = delete(df,'three');"
   ]
  },
  {
   "cell_type": "code",
   "execution_count": 17,
   "metadata": {},
   "outputs": [
    {
     "data": {
      "image/png": "[encoded data removed]",
      "text/plain": [
       "<Figure size 864x432 with 2 Axes>"
      ]
     },
     "metadata": {
      "needs_background": "light"
     },
     "output_type": "display_data"
    }
   ],
   "source": [
    "four = delete(df, 'four');"
   ]
  },
  {
   "cell_type": "code",
   "execution_count": 18,
   "metadata": {},
   "outputs": [
    {
     "data": {
      "image/png": "[encoded data removed]",
      "text/plain": [
       "<Figure size 864x432 with 2 Axes>"
      ]
     },
     "metadata": {
      "needs_background": "light"
     },
     "output_type": "display_data"
    }
   ],
   "source": [
    "five = delete(df, 'five');"
   ]
  },
  {
   "cell_type": "code",
   "execution_count": 19,
   "metadata": {},
   "outputs": [
    {
     "data": {
      "image/png": "[encoded data removed]",
      "text/plain": [
       "<Figure size 864x432 with 2 Axes>"
      ]
     },
     "metadata": {
      "needs_background": "light"
     },
     "output_type": "display_data"
    }
   ],
   "source": [
    "six = delete(df, 'six');"
   ]
  },
  {
   "cell_type": "code",
   "execution_count": 20,
   "metadata": {},
   "outputs": [
    {
     "data": {
      "image/png": "[encoded data removed]",
      "text/plain": [
       "<Figure size 864x432 with 2 Axes>"
      ]
     },
     "metadata": {
      "needs_background": "light"
     },
     "output_type": "display_data"
    }
   ],
   "source": [
    "seven = delete(df, 'seven');"
   ]
  },
  {
   "cell_type": "code",
   "execution_count": 21,
   "metadata": {},
   "outputs": [],
   "source": [
    "df = pd.DataFrame(data = [one,two,three,four,five,six,seven])\n",
    "df = df.T"
   ]
  },
  {
   "cell_type": "code",
   "execution_count": 22,
   "metadata": {},
   "outputs": [],
   "source": [
    "specifications = df.describe().loc[['mean','std','50%'],:]\n",
    "scope_variation = df.max() - df.min()\n",
    "for unique in specifications:\n",
    "    # Посчитаем дисперсию\n",
    "    specifications.loc['variance', unique] = df[unique].var()\n",
    "    # Размах вариации\n",
    "    specifications.loc['scope_variation', unique] = scope_variation[unique]\n",
    "    # Коэффициент эксцесса\n",
    "    specifications.loc['kurtosis', unique] =  scipy.stats.kurtosis(df[unique], fisher = True, nan_policy = 'omit')\n",
    "    # Моду\n",
    "    specifications.loc['mode', unique] =  df[unique].value_counts(ascending = False).head(1).index[0]\n",
    "    # Коэффициент асимметрии\n",
    "    specifications.loc['skewness', unique] = (specifications.loc['mean', unique] \n",
    "                                              - specifications.loc['mode', unique]) / specifications.loc['std', unique]"
   ]
  },
  {
   "cell_type": "code",
   "execution_count": 23,
   "metadata": {},
   "outputs": [
    {
     "data": {
      "text/html": [
       "<div>\n",
       "<style scoped>\n",
       "    .dataframe tbody tr th:only-of-type {\n",
       "        vertical-align: middle;\n",
       "    }\n",
       "\n",
       "    .dataframe tbody tr th {\n",
       "        vertical-align: top;\n",
       "    }\n",
       "\n",
       "    .dataframe thead th {\n",
       "        text-align: right;\n",
       "    }\n",
       "</style>\n",
       "<table border=\"1\" class=\"dataframe\">\n",
       "  <thead>\n",
       "    <tr style=\"text-align: right;\">\n",
       "      <th></th>\n",
       "      <th>one</th>\n",
       "      <th>two</th>\n",
       "      <th>three</th>\n",
       "      <th>four</th>\n",
       "      <th>five</th>\n",
       "      <th>six</th>\n",
       "      <th>seven</th>\n",
       "    </tr>\n",
       "  </thead>\n",
       "  <tbody>\n",
       "    <tr>\n",
       "      <th>mean</th>\n",
       "      <td>-10.356208</td>\n",
       "      <td>8.754050</td>\n",
       "      <td>8.730183</td>\n",
       "      <td>12.576423</td>\n",
       "      <td>8.392000</td>\n",
       "      <td>11.977505</td>\n",
       "      <td>7.941892</td>\n",
       "    </tr>\n",
       "    <tr>\n",
       "      <th>std</th>\n",
       "      <td>13.584549</td>\n",
       "      <td>17.319358</td>\n",
       "      <td>13.287710</td>\n",
       "      <td>6.715063</td>\n",
       "      <td>1.627154</td>\n",
       "      <td>3.099032</td>\n",
       "      <td>3.599748</td>\n",
       "    </tr>\n",
       "    <tr>\n",
       "      <th>50%</th>\n",
       "      <td>-9.587024</td>\n",
       "      <td>8.657697</td>\n",
       "      <td>8.942202</td>\n",
       "      <td>12.740085</td>\n",
       "      <td>8.000000</td>\n",
       "      <td>12.000000</td>\n",
       "      <td>7.739566</td>\n",
       "    </tr>\n",
       "    <tr>\n",
       "      <th>variance</th>\n",
       "      <td>184.539975</td>\n",
       "      <td>299.960179</td>\n",
       "      <td>176.563245</td>\n",
       "      <td>45.092068</td>\n",
       "      <td>2.647631</td>\n",
       "      <td>9.604001</td>\n",
       "      <td>12.958185</td>\n",
       "    </tr>\n",
       "    <tr>\n",
       "      <th>scope_variation</th>\n",
       "      <td>45.765557</td>\n",
       "      <td>92.484697</td>\n",
       "      <td>72.128605</td>\n",
       "      <td>34.081331</td>\n",
       "      <td>9.000000</td>\n",
       "      <td>14.000000</td>\n",
       "      <td>18.924184</td>\n",
       "    </tr>\n",
       "    <tr>\n",
       "      <th>kurtosis</th>\n",
       "      <td>-1.246367</td>\n",
       "      <td>-0.143759</td>\n",
       "      <td>-0.334145</td>\n",
       "      <td>-0.316796</td>\n",
       "      <td>-0.343639</td>\n",
       "      <td>-0.440773</td>\n",
       "      <td>-0.349461</td>\n",
       "    </tr>\n",
       "    <tr>\n",
       "      <th>mode</th>\n",
       "      <td>-18.815943</td>\n",
       "      <td>-23.627036</td>\n",
       "      <td>8.427380</td>\n",
       "      <td>21.798782</td>\n",
       "      <td>9.000000</td>\n",
       "      <td>12.000000</td>\n",
       "      <td>8.038708</td>\n",
       "    </tr>\n",
       "    <tr>\n",
       "      <th>skewness</th>\n",
       "      <td>0.622747</td>\n",
       "      <td>1.869647</td>\n",
       "      <td>0.022788</td>\n",
       "      <td>-1.373384</td>\n",
       "      <td>-0.373658</td>\n",
       "      <td>-0.007259</td>\n",
       "      <td>-0.026895</td>\n",
       "    </tr>\n",
       "  </tbody>\n",
       "</table>\n",
       "</div>"
      ],
      "text/plain": [
       "                        one         two       three       four      five  \\\n",
       "mean             -10.356208    8.754050    8.730183  12.576423  8.392000   \n",
       "std               13.584549   17.319358   13.287710   6.715063  1.627154   \n",
       "50%               -9.587024    8.657697    8.942202  12.740085  8.000000   \n",
       "variance         184.539975  299.960179  176.563245  45.092068  2.647631   \n",
       "scope_variation   45.765557   92.484697   72.128605  34.081331  9.000000   \n",
       "kurtosis          -1.246367   -0.143759   -0.334145  -0.316796 -0.343639   \n",
       "mode             -18.815943  -23.627036    8.427380  21.798782  9.000000   \n",
       "skewness           0.622747    1.869647    0.022788  -1.373384 -0.373658   \n",
       "\n",
       "                       six      seven  \n",
       "mean             11.977505   7.941892  \n",
       "std               3.099032   3.599748  \n",
       "50%              12.000000   7.739566  \n",
       "variance          9.604001  12.958185  \n",
       "scope_variation  14.000000  18.924184  \n",
       "kurtosis         -0.440773  -0.349461  \n",
       "mode             12.000000   8.038708  \n",
       "skewness         -0.007259  -0.026895  "
      ]
     },
     "execution_count": 23,
     "metadata": {},
     "output_type": "execute_result"
    }
   ],
   "source": [
    "specifications"
   ]
  },
  {
   "cell_type": "markdown",
   "metadata": {},
   "source": [
    "### Проверить каждую выборку на принадлежность к закону распределения, о котором было сделано предположение в пункте 1, используя критерии хи-квадрат и Колмогорова - Смирнова"
   ]
  },
  {
   "cell_type": "markdown",
   "metadata": {},
   "source": [
    "С помощью критерия хи-квадрат и критерия К-С проверим по-очереди каждую из выборок. Специально делаю это не через цикл, чтобы было удобнее читать. "
   ]
  },
  {
   "cell_type": "code",
   "execution_count": 24,
   "metadata": {},
   "outputs": [],
   "source": [
    "table_distributions = pd.DataFrame(columns=['Название закона распр.', 'Параметры закона распр', 'Критерий хи-кв. выбрана Н0?', \n",
    "                             'Критерий К.-С. выбрана Н0?'], index = ['one', 'two', 'three', 'four', 'five', 'six', 'seven'])\n",
    "table_distributions['Название закона распр.'] = ['Равномерн','Норм','Норм','Норм','Норм','Норм','Норм']"
   ]
  },
  {
   "cell_type": "code",
   "execution_count": 25,
   "metadata": {},
   "outputs": [],
   "source": [
    "def phi(number):\n",
    "    stat, p = scipy.stats.normaltest(df[number], nan_policy = 'omit') # Критерий согласия Пирсона (хи-квадрат)\n",
    "    print(f'Для {number} распределения:')\n",
    "    print('Statistics=%.3f, p-value=%.3f' % (stat, p))\n",
    "    alpha = 0.05 \n",
    "    if p > alpha:\n",
    "        print('Принять гипотезу о нормальности')\n",
    "        table_distributions.loc[number, 'Критерий хи-кв. выбрана Н0?'] = 1\n",
    "    else:\n",
    "        print('Отклонить гипотезу о нормальности')\n",
    "        table_distributions.loc[number, 'Критерий хи-кв. выбрана Н0?'] = 0\n"
   ]
  },
  {
   "cell_type": "code",
   "execution_count": 26,
   "metadata": {},
   "outputs": [],
   "source": [
    "def kolmogorov(number):\n",
    "    col = df[number].reset_index(drop=True).dropna()\n",
    "    mu  = 0\n",
    "    sigma = 0\n",
    "    for i in col:\n",
    "        mu +=  i * (1/len(col))\n",
    "        sigma +=  i**2 * (1/len(col))  \n",
    "    sigma = sigma**0.5\n",
    "    \n",
    "    table_distributions.loc[number, 'Параметры закона распр'] = f'mu = {mu:2f}, sigma = {sigma:2f}'\n",
    "    \n",
    "    print(stats.kstest(col, 'norm', args = (mu,sigma)))\n",
    "    if stats.kstest(col, 'norm', args = (mu,sigma))[1] > 0.01:\n",
    "        table_distributions.loc[number, 'Критерий К.-С. выбрана Н0?'] = 1\n",
    "    else: table_distributions.loc[number, 'Критерий К.-С. выбрана Н0?'] = 0"
   ]
  },
  {
   "cell_type": "markdown",
   "metadata": {},
   "source": [
    "Для первого случая рассмотрим отдельно"
   ]
  },
  {
   "cell_type": "code",
   "execution_count": 27,
   "metadata": {},
   "outputs": [
    {
     "name": "stdout",
     "output_type": "stream",
     "text": [
      "KstestResult(statistic=0.47419356664241286, pvalue=9.34621652821646e-104)\n"
     ]
    }
   ],
   "source": [
    "mu = (df['one'].max() + df['one'].min()) / 2\n",
    "sigma = ((df['one'].max() - df['one'].min()) ** 2) / 12\n",
    "sigma = sigma ** 0.5\n",
    "table_distributions.loc['one', 'Параметры закона распр'] = f'mu = {mu:2f}, sigma = {sigma:2f}'\n",
    "print(stats.kstest(df['one'], 'uniform', args = (mu,sigma)))\n",
    "if stats.kstest(df['one'], 'uniform', args = (mu,sigma))[1] > 0.01:\n",
    "    table_distributions.loc['one', 'Критерий К.-С. выбрана Н0?'] = 1\n",
    "else: table_distributions.loc['one', 'Критерий К.-С. выбрана Н0?'] = 0"
   ]
  },
  {
   "cell_type": "code",
   "execution_count": 29,
   "metadata": {},
   "outputs": [
    {
     "name": "stdout",
     "output_type": "stream",
     "text": [
      "Power_divergenceResult(statistic=-8891.8115119326, pvalue=1.0)\n"
     ]
    }
   ],
   "source": [
    "print(scipy.stats.chisquare(df['one']))\n",
    "if scipy.stats.chisquare(df['one'])[1] > 0.01:\n",
    "    table_distributions.loc['one', 'Критерий хи-кв. выбрана Н0?'] = 1\n",
    "else: table_distributions.loc['one', 'Критерий хи-кв. выбрана Н0?'] = 0"
   ]
  },
  {
   "cell_type": "code",
   "execution_count": 31,
   "metadata": {},
   "outputs": [
    {
     "name": "stdout",
     "output_type": "stream",
     "text": [
      "Для two распределения:\n",
      "Statistics=0.329, p-value=0.848\n",
      "Принять гипотезу о нормальности\n",
      "KstestResult(statistic=0.037236787095442175, pvalue=0.4896527154168423)\n"
     ]
    }
   ],
   "source": [
    "phi('two');\n",
    "kolmogorov('two');"
   ]
  },
  {
   "cell_type": "code",
   "execution_count": 32,
   "metadata": {},
   "outputs": [
    {
     "name": "stdout",
     "output_type": "stream",
     "text": [
      "Для three распределения:\n",
      "Statistics=3.596, p-value=0.166\n",
      "Принять гипотезу о нормальности\n",
      "KstestResult(statistic=0.05127102074641596, pvalue=0.1401254525065566)\n"
     ]
    }
   ],
   "source": [
    "phi('three');\n",
    "kolmogorov('three');"
   ]
  },
  {
   "cell_type": "code",
   "execution_count": 33,
   "metadata": {},
   "outputs": [
    {
     "name": "stdout",
     "output_type": "stream",
     "text": [
      "Для four распределения:\n",
      "Statistics=3.337, p-value=0.188\n",
      "Принять гипотезу о нормальности\n",
      "KstestResult(statistic=0.18156888091835674, pvalue=9.427074628877473e-15)\n"
     ]
    }
   ],
   "source": [
    "phi('four')\n",
    "kolmogorov('four');"
   ]
  },
  {
   "cell_type": "code",
   "execution_count": 34,
   "metadata": {},
   "outputs": [
    {
     "name": "stdout",
     "output_type": "stream",
     "text": [
      "Для five распределения:\n",
      "Statistics=6.101, p-value=0.047\n",
      "Отклонить гипотезу о нормальности\n",
      "KstestResult(statistic=0.3681445222604265, pvalue=2.777284864771602e-61)\n"
     ]
    }
   ],
   "source": [
    "phi('five')\n",
    "kolmogorov('five');"
   ]
  },
  {
   "cell_type": "code",
   "execution_count": 35,
   "metadata": {},
   "outputs": [
    {
     "name": "stdout",
     "output_type": "stream",
     "text": [
      "Для six распределения:\n",
      "Statistics=8.097, p-value=0.017\n",
      "Отклонить гипотезу о нормальности\n",
      "KstestResult(statistic=0.31508400446371565, pvalue=1.193212807260948e-43)\n"
     ]
    }
   ],
   "source": [
    "phi('six')\n",
    "kolmogorov('six');"
   ]
  },
  {
   "cell_type": "code",
   "execution_count": 36,
   "metadata": {},
   "outputs": [
    {
     "name": "stdout",
     "output_type": "stream",
     "text": [
      "Для seven распределения:\n",
      "Statistics=3.467, p-value=0.177\n",
      "Принять гипотезу о нормальности\n",
      "KstestResult(statistic=0.20061952082398632, pvalue=7.207172251681115e-18)\n"
     ]
    }
   ],
   "source": [
    "phi('seven');\n",
    "kolmogorov('seven');"
   ]
  },
  {
   "cell_type": "markdown",
   "metadata": {},
   "source": [
    "### Посмотрим на общую таблицу:\n",
    "1 - выбрана Н0, <br>\n",
    "0 - отклонена H0"
   ]
  },
  {
   "cell_type": "code",
   "execution_count": 38,
   "metadata": {},
   "outputs": [
    {
     "data": {
      "text/html": [
       "<div>\n",
       "<style scoped>\n",
       "    .dataframe tbody tr th:only-of-type {\n",
       "        vertical-align: middle;\n",
       "    }\n",
       "\n",
       "    .dataframe tbody tr th {\n",
       "        vertical-align: top;\n",
       "    }\n",
       "\n",
       "    .dataframe thead th {\n",
       "        text-align: right;\n",
       "    }\n",
       "</style>\n",
       "<table border=\"1\" class=\"dataframe\">\n",
       "  <thead>\n",
       "    <tr style=\"text-align: right;\">\n",
       "      <th></th>\n",
       "      <th>Название закона распр.</th>\n",
       "      <th>Параметры закона распр</th>\n",
       "      <th>Критерий хи-кв. выбрана Н0?</th>\n",
       "      <th>Критерий К.-С. выбрана Н0?</th>\n",
       "    </tr>\n",
       "  </thead>\n",
       "  <tbody>\n",
       "    <tr>\n",
       "      <th>one</th>\n",
       "      <td>Равномерн</td>\n",
       "      <td>mu = -10.988067, sigma = 13.211378</td>\n",
       "      <td>1</td>\n",
       "      <td>0</td>\n",
       "    </tr>\n",
       "    <tr>\n",
       "      <th>two</th>\n",
       "      <td>Норм</td>\n",
       "      <td>mu = 8.754050, sigma = 19.390336</td>\n",
       "      <td>1</td>\n",
       "      <td>1</td>\n",
       "    </tr>\n",
       "    <tr>\n",
       "      <th>three</th>\n",
       "      <td>Норм</td>\n",
       "      <td>mu = 8.730183, sigma = 15.887904</td>\n",
       "      <td>1</td>\n",
       "      <td>1</td>\n",
       "    </tr>\n",
       "    <tr>\n",
       "      <th>four</th>\n",
       "      <td>Норм</td>\n",
       "      <td>mu = 12.576423, sigma = 14.253680</td>\n",
       "      <td>1</td>\n",
       "      <td>0</td>\n",
       "    </tr>\n",
       "    <tr>\n",
       "      <th>five</th>\n",
       "      <td>Норм</td>\n",
       "      <td>mu = 8.392000, sigma = 8.547982</td>\n",
       "      <td>0</td>\n",
       "      <td>0</td>\n",
       "    </tr>\n",
       "    <tr>\n",
       "      <th>six</th>\n",
       "      <td>Норм</td>\n",
       "      <td>mu = 11.977505, sigma = 12.371135</td>\n",
       "      <td>0</td>\n",
       "      <td>0</td>\n",
       "    </tr>\n",
       "    <tr>\n",
       "      <th>seven</th>\n",
       "      <td>Норм</td>\n",
       "      <td>mu = 7.941892, sigma = 8.718116</td>\n",
       "      <td>1</td>\n",
       "      <td>0</td>\n",
       "    </tr>\n",
       "  </tbody>\n",
       "</table>\n",
       "</div>"
      ],
      "text/plain": [
       "      Название закона распр.              Параметры закона распр  \\\n",
       "one                Равномерн  mu = -10.988067, sigma = 13.211378   \n",
       "two                     Норм    mu = 8.754050, sigma = 19.390336   \n",
       "three                   Норм    mu = 8.730183, sigma = 15.887904   \n",
       "four                    Норм   mu = 12.576423, sigma = 14.253680   \n",
       "five                    Норм     mu = 8.392000, sigma = 8.547982   \n",
       "six                     Норм   mu = 11.977505, sigma = 12.371135   \n",
       "seven                   Норм     mu = 7.941892, sigma = 8.718116   \n",
       "\n",
       "      Критерий хи-кв. выбрана Н0? Критерий К.-С. выбрана Н0?  \n",
       "one                             1                          0  \n",
       "two                             1                          1  \n",
       "three                           1                          1  \n",
       "four                            1                          0  \n",
       "five                            0                          0  \n",
       "six                             0                          0  \n",
       "seven                           1                          0  "
      ]
     },
     "execution_count": 38,
     "metadata": {},
     "output_type": "execute_result"
    }
   ],
   "source": [
    "table_distributions"
   ]
  },
  {
   "cell_type": "markdown",
   "metadata": {},
   "source": [
    "Нормально распределёнными оказались 2-е и 3-е распределения"
   ]
  },
  {
   "cell_type": "markdown",
   "metadata": {},
   "source": [
    "### Провести проверку: можно ли в качестве оценки математического ожидания использовать округленное до целого среднее значение? "
   ]
  },
  {
   "cell_type": "code",
   "execution_count": 41,
   "metadata": {},
   "outputs": [
    {
     "name": "stdout",
     "output_type": "stream",
     "text": [
      "p-value = 0.49255406515335987\n"
     ]
    }
   ],
   "source": [
    "two = df['two'].reset_index(drop=True).dropna()\n",
    "mu  = round(two.mean())\n",
    "sigma = 19.445625\n",
    "print('p-value =',stats.kstest(two, 'norm', args = (mu,sigma))[1])"
   ]
  },
  {
   "cell_type": "code",
   "execution_count": 42,
   "metadata": {},
   "outputs": [
    {
     "name": "stdout",
     "output_type": "stream",
     "text": [
      "p-value = 0.0678758721328715\n"
     ]
    }
   ],
   "source": [
    "three = df['three'].reset_index(drop=True).dropna()\n",
    "mu  = round(three.mean())\n",
    "sigma = 16.046877\n",
    "print('p-value =',stats.kstest(three, 'norm', args = (mu,sigma))[1])"
   ]
  },
  {
   "cell_type": "markdown",
   "metadata": {},
   "source": [
    "p-value остался выше уровня значимости, а значит в качестве оценки мат. ожидания **можно** использовать округленное до целого среднее значение"
   ]
  },
  {
   "cell_type": "markdown",
   "metadata": {},
   "source": [
    "### Для нормально распределенных случайных величин проверить: µ1=µ2; D1=D2\n",
    "D - дисперсия"
   ]
  },
  {
   "cell_type": "code",
   "execution_count": 43,
   "metadata": {},
   "outputs": [
    {
     "data": {
      "text/html": [
       "<div>\n",
       "<style scoped>\n",
       "    .dataframe tbody tr th:only-of-type {\n",
       "        vertical-align: middle;\n",
       "    }\n",
       "\n",
       "    .dataframe tbody tr th {\n",
       "        vertical-align: top;\n",
       "    }\n",
       "\n",
       "    .dataframe thead th {\n",
       "        text-align: right;\n",
       "    }\n",
       "</style>\n",
       "<table border=\"1\" class=\"dataframe\">\n",
       "  <thead>\n",
       "    <tr style=\"text-align: right;\">\n",
       "      <th></th>\n",
       "      <th>Название закона распр.</th>\n",
       "      <th>Параметры закона распр</th>\n",
       "      <th>Критерий хи-кв. выбрана Н0?</th>\n",
       "      <th>Критерий К.-С. выбрана Н0?</th>\n",
       "    </tr>\n",
       "  </thead>\n",
       "  <tbody>\n",
       "    <tr>\n",
       "      <th>two</th>\n",
       "      <td>Норм</td>\n",
       "      <td>mu = 8.754050, sigma = 19.390336</td>\n",
       "      <td>1</td>\n",
       "      <td>1</td>\n",
       "    </tr>\n",
       "    <tr>\n",
       "      <th>three</th>\n",
       "      <td>Норм</td>\n",
       "      <td>mu = 8.730183, sigma = 15.887904</td>\n",
       "      <td>1</td>\n",
       "      <td>1</td>\n",
       "    </tr>\n",
       "    <tr>\n",
       "      <th>four</th>\n",
       "      <td>Норм</td>\n",
       "      <td>mu = 12.576423, sigma = 14.253680</td>\n",
       "      <td>1</td>\n",
       "      <td>0</td>\n",
       "    </tr>\n",
       "    <tr>\n",
       "      <th>five</th>\n",
       "      <td>Норм</td>\n",
       "      <td>mu = 8.392000, sigma = 8.547982</td>\n",
       "      <td>0</td>\n",
       "      <td>0</td>\n",
       "    </tr>\n",
       "    <tr>\n",
       "      <th>six</th>\n",
       "      <td>Норм</td>\n",
       "      <td>mu = 11.977505, sigma = 12.371135</td>\n",
       "      <td>0</td>\n",
       "      <td>0</td>\n",
       "    </tr>\n",
       "    <tr>\n",
       "      <th>seven</th>\n",
       "      <td>Норм</td>\n",
       "      <td>mu = 7.941892, sigma = 8.718116</td>\n",
       "      <td>1</td>\n",
       "      <td>0</td>\n",
       "    </tr>\n",
       "  </tbody>\n",
       "</table>\n",
       "</div>"
      ],
      "text/plain": [
       "      Название закона распр.             Параметры закона распр  \\\n",
       "two                     Норм   mu = 8.754050, sigma = 19.390336   \n",
       "three                   Норм   mu = 8.730183, sigma = 15.887904   \n",
       "four                    Норм  mu = 12.576423, sigma = 14.253680   \n",
       "five                    Норм    mu = 8.392000, sigma = 8.547982   \n",
       "six                     Норм  mu = 11.977505, sigma = 12.371135   \n",
       "seven                   Норм    mu = 7.941892, sigma = 8.718116   \n",
       "\n",
       "      Критерий хи-кв. выбрана Н0? Критерий К.-С. выбрана Н0?  \n",
       "two                             1                          1  \n",
       "three                           1                          1  \n",
       "four                            1                          0  \n",
       "five                            0                          0  \n",
       "six                             0                          0  \n",
       "seven                           1                          0  "
      ]
     },
     "execution_count": 43,
     "metadata": {},
     "output_type": "execute_result"
    }
   ],
   "source": [
    "table_distributions['two':'seven']"
   ]
  },
  {
   "cell_type": "code",
   "execution_count": 44,
   "metadata": {},
   "outputs": [],
   "source": [
    "table_uniformity = pd.DataFrame(columns=['N ст1', 'N ст2', 'мю1=мю2', 'D1=D2',\n",
    "                                         'Критерий К.-С. Выбрана Н0?', 'Ранговый кр. Выбрана Н0?'])"
   ]
  },
  {
   "cell_type": "code",
   "execution_count": 45,
   "metadata": {},
   "outputs": [
    {
     "name": "stdout",
     "output_type": "stream",
     "text": [
      "p-value для two и three = 3.587957134861565e-07\n",
      "p-value для two и four = 9.44534481841349e-50\n",
      "p-value для two и five = 1.7421582562950974e-114\n",
      "p-value для two и six = 1.2566887650272636e-91\n",
      "p-value для two и seven = 6.542200415651643e-85\n",
      "p-value для three и four = 1.1087355998378083e-35\n",
      "p-value для three и five = 6.772938329482138e-107\n",
      "p-value для three и six = 4.726191558024811e-83\n",
      "p-value для three и seven = 3.898252074834016e-76\n",
      "p-value для four и five = 2.934586898717713e-81\n",
      "p-value для four и six = 7.873448599628404e-42\n",
      "p-value для four и seven = 1.411152288797082e-30\n",
      "p-value для five и six = 8.268459656632974e-30\n",
      "p-value для five и seven = 1.7294941548047825e-39\n",
      "p-value для six и seven = 0.00044739860961174824\n"
     ]
    }
   ],
   "source": [
    "numbers = [two,three, four, five, six, seven]\n",
    "n = 0\n",
    "n1 = 0\n",
    "n2 = 0\n",
    "# Критерий Флигнера-Килина о равенстве дисперсий:\n",
    "for i in numbers:\n",
    "    for k in numbers:\n",
    "        if i.name != k.name and n1 < n2:\n",
    "            res = stats.fligner(i,k)\n",
    "            print(f'p-value для {i.name} и {k.name} = {res[1]}')\n",
    "            if res[1] > 0.01:\n",
    "                table_uniformity.loc[n,'D1=D2'] = 1\n",
    "            else :\n",
    "                table_uniformity.loc[n,'D1=D2'] = 0\n",
    "            n += 1\n",
    "        n2 += 1\n",
    "    n1 += 1\n",
    "    n2 = 0"
   ]
  },
  {
   "cell_type": "code",
   "execution_count": 46,
   "metadata": {},
   "outputs": [
    {
     "data": {
      "text/html": [
       "<div>\n",
       "<style scoped>\n",
       "    .dataframe tbody tr th:only-of-type {\n",
       "        vertical-align: middle;\n",
       "    }\n",
       "\n",
       "    .dataframe tbody tr th {\n",
       "        vertical-align: top;\n",
       "    }\n",
       "\n",
       "    .dataframe thead th {\n",
       "        text-align: right;\n",
       "    }\n",
       "</style>\n",
       "<table border=\"1\" class=\"dataframe\">\n",
       "  <thead>\n",
       "    <tr style=\"text-align: right;\">\n",
       "      <th></th>\n",
       "      <th>N ст1</th>\n",
       "      <th>N ст2</th>\n",
       "      <th>мю1=мю2</th>\n",
       "      <th>D1=D2</th>\n",
       "      <th>Критерий К.-С. Выбрана Н0?</th>\n",
       "      <th>Ранговый кр. Выбрана Н0?</th>\n",
       "    </tr>\n",
       "  </thead>\n",
       "  <tbody>\n",
       "    <tr>\n",
       "      <th>0</th>\n",
       "      <td>NaN</td>\n",
       "      <td>NaN</td>\n",
       "      <td>NaN</td>\n",
       "      <td>0</td>\n",
       "      <td>NaN</td>\n",
       "      <td>NaN</td>\n",
       "    </tr>\n",
       "    <tr>\n",
       "      <th>1</th>\n",
       "      <td>NaN</td>\n",
       "      <td>NaN</td>\n",
       "      <td>NaN</td>\n",
       "      <td>0</td>\n",
       "      <td>NaN</td>\n",
       "      <td>NaN</td>\n",
       "    </tr>\n",
       "    <tr>\n",
       "      <th>2</th>\n",
       "      <td>NaN</td>\n",
       "      <td>NaN</td>\n",
       "      <td>NaN</td>\n",
       "      <td>0</td>\n",
       "      <td>NaN</td>\n",
       "      <td>NaN</td>\n",
       "    </tr>\n",
       "    <tr>\n",
       "      <th>3</th>\n",
       "      <td>NaN</td>\n",
       "      <td>NaN</td>\n",
       "      <td>NaN</td>\n",
       "      <td>0</td>\n",
       "      <td>NaN</td>\n",
       "      <td>NaN</td>\n",
       "    </tr>\n",
       "    <tr>\n",
       "      <th>4</th>\n",
       "      <td>NaN</td>\n",
       "      <td>NaN</td>\n",
       "      <td>NaN</td>\n",
       "      <td>0</td>\n",
       "      <td>NaN</td>\n",
       "      <td>NaN</td>\n",
       "    </tr>\n",
       "    <tr>\n",
       "      <th>5</th>\n",
       "      <td>NaN</td>\n",
       "      <td>NaN</td>\n",
       "      <td>NaN</td>\n",
       "      <td>0</td>\n",
       "      <td>NaN</td>\n",
       "      <td>NaN</td>\n",
       "    </tr>\n",
       "    <tr>\n",
       "      <th>6</th>\n",
       "      <td>NaN</td>\n",
       "      <td>NaN</td>\n",
       "      <td>NaN</td>\n",
       "      <td>0</td>\n",
       "      <td>NaN</td>\n",
       "      <td>NaN</td>\n",
       "    </tr>\n",
       "    <tr>\n",
       "      <th>7</th>\n",
       "      <td>NaN</td>\n",
       "      <td>NaN</td>\n",
       "      <td>NaN</td>\n",
       "      <td>0</td>\n",
       "      <td>NaN</td>\n",
       "      <td>NaN</td>\n",
       "    </tr>\n",
       "    <tr>\n",
       "      <th>8</th>\n",
       "      <td>NaN</td>\n",
       "      <td>NaN</td>\n",
       "      <td>NaN</td>\n",
       "      <td>0</td>\n",
       "      <td>NaN</td>\n",
       "      <td>NaN</td>\n",
       "    </tr>\n",
       "    <tr>\n",
       "      <th>9</th>\n",
       "      <td>NaN</td>\n",
       "      <td>NaN</td>\n",
       "      <td>NaN</td>\n",
       "      <td>0</td>\n",
       "      <td>NaN</td>\n",
       "      <td>NaN</td>\n",
       "    </tr>\n",
       "    <tr>\n",
       "      <th>10</th>\n",
       "      <td>NaN</td>\n",
       "      <td>NaN</td>\n",
       "      <td>NaN</td>\n",
       "      <td>0</td>\n",
       "      <td>NaN</td>\n",
       "      <td>NaN</td>\n",
       "    </tr>\n",
       "    <tr>\n",
       "      <th>11</th>\n",
       "      <td>NaN</td>\n",
       "      <td>NaN</td>\n",
       "      <td>NaN</td>\n",
       "      <td>0</td>\n",
       "      <td>NaN</td>\n",
       "      <td>NaN</td>\n",
       "    </tr>\n",
       "    <tr>\n",
       "      <th>12</th>\n",
       "      <td>NaN</td>\n",
       "      <td>NaN</td>\n",
       "      <td>NaN</td>\n",
       "      <td>0</td>\n",
       "      <td>NaN</td>\n",
       "      <td>NaN</td>\n",
       "    </tr>\n",
       "    <tr>\n",
       "      <th>13</th>\n",
       "      <td>NaN</td>\n",
       "      <td>NaN</td>\n",
       "      <td>NaN</td>\n",
       "      <td>0</td>\n",
       "      <td>NaN</td>\n",
       "      <td>NaN</td>\n",
       "    </tr>\n",
       "    <tr>\n",
       "      <th>14</th>\n",
       "      <td>NaN</td>\n",
       "      <td>NaN</td>\n",
       "      <td>NaN</td>\n",
       "      <td>0</td>\n",
       "      <td>NaN</td>\n",
       "      <td>NaN</td>\n",
       "    </tr>\n",
       "  </tbody>\n",
       "</table>\n",
       "</div>"
      ],
      "text/plain": [
       "   N ст1 N ст2 мю1=мю2 D1=D2 Критерий К.-С. Выбрана Н0?  \\\n",
       "0    NaN   NaN     NaN     0                        NaN   \n",
       "1    NaN   NaN     NaN     0                        NaN   \n",
       "2    NaN   NaN     NaN     0                        NaN   \n",
       "3    NaN   NaN     NaN     0                        NaN   \n",
       "4    NaN   NaN     NaN     0                        NaN   \n",
       "5    NaN   NaN     NaN     0                        NaN   \n",
       "6    NaN   NaN     NaN     0                        NaN   \n",
       "7    NaN   NaN     NaN     0                        NaN   \n",
       "8    NaN   NaN     NaN     0                        NaN   \n",
       "9    NaN   NaN     NaN     0                        NaN   \n",
       "10   NaN   NaN     NaN     0                        NaN   \n",
       "11   NaN   NaN     NaN     0                        NaN   \n",
       "12   NaN   NaN     NaN     0                        NaN   \n",
       "13   NaN   NaN     NaN     0                        NaN   \n",
       "14   NaN   NaN     NaN     0                        NaN   \n",
       "\n",
       "   Ранговый кр. Выбрана Н0?  \n",
       "0                       NaN  \n",
       "1                       NaN  \n",
       "2                       NaN  \n",
       "3                       NaN  \n",
       "4                       NaN  \n",
       "5                       NaN  \n",
       "6                       NaN  \n",
       "7                       NaN  \n",
       "8                       NaN  \n",
       "9                       NaN  \n",
       "10                      NaN  \n",
       "11                      NaN  \n",
       "12                      NaN  \n",
       "13                      NaN  \n",
       "14                      NaN  "
      ]
     },
     "execution_count": 46,
     "metadata": {},
     "output_type": "execute_result"
    }
   ],
   "source": [
    "table_uniformity"
   ]
  },
  {
   "cell_type": "code",
   "execution_count": 47,
   "metadata": {},
   "outputs": [],
   "source": [
    "# Т критерий Стьюдента для выборок с неравными дисперсиями\n",
    "from scipy.stats import ttest_ind\n",
    "n = 0\n",
    "n1 = 0\n",
    "n2 = 0\n",
    "for i in numbers:\n",
    "    for k in numbers:\n",
    "        if i.name != k.name and n1 < n2:\n",
    "            ttest_ind(i, k, equal_var = False)\n",
    "\n",
    "            if ttest_ind(i, k, equal_var = False)[1] > 0.01:\n",
    "                table_uniformity.loc[n,'мю1=мю2'] = 1\n",
    "            else :\n",
    "                table_uniformity.loc[n,'мю1=мю2'] = 0\n",
    "            n += 1\n",
    "        n2 += 1\n",
    "    n1 += 1\n",
    "    n2 = 0\n"
   ]
  },
  {
   "cell_type": "markdown",
   "metadata": {},
   "source": [
    "**Принимаем гипотезу о равенстве средних значений (т.к. в ttest_ind p-value > 0.05), а гипотезу о равенстве дисперсий отвергаем по аналогичным соображениям.**"
   ]
  },
  {
   "cell_type": "markdown",
   "metadata": {},
   "source": [
    "### Проверить однородность тех же (п. 3) выборок, используя критерии\n",
    "- Колмогорова-Смирнова,\n",
    "- Мана-Уитни или Уилкоксона"
   ]
  },
  {
   "cell_type": "code",
   "execution_count": 48,
   "metadata": {},
   "outputs": [
    {
     "data": {
      "text/plain": [
       "0     -16.427992\n",
       "1     -29.368694\n",
       "2      -6.561724\n",
       "3       7.358867\n",
       "4       6.692038\n",
       "         ...    \n",
       "495   -14.625446\n",
       "496    -8.260384\n",
       "497   -26.231086\n",
       "498     2.804773\n",
       "499   -14.180425\n",
       "Name: one, Length: 500, dtype: float64"
      ]
     },
     "execution_count": 48,
     "metadata": {},
     "output_type": "execute_result"
    }
   ],
   "source": [
    "one"
   ]
  },
  {
   "cell_type": "code",
   "execution_count": 49,
   "metadata": {},
   "outputs": [],
   "source": [
    "from scipy.stats import ks_2samp\n",
    "from scipy.stats import mannwhitneyu\n",
    "\n",
    "n = 0\n",
    "n1 = 0\n",
    "n2 = 0\n",
    "for i in numbers:\n",
    "    for k in numbers:\n",
    "        if i.name != k.name and n1 < n2:\n",
    "            ks_2samp(i,k)\n",
    "            if ks_2samp(i, k)[1] > 0.01:\n",
    "                table_uniformity.loc[n,'Критерий К.-С. Выбрана Н0?'] = 1\n",
    "            else :\n",
    "                table_uniformity.loc[n,'Критерий К.-С. Выбрана Н0?'] = 0\n",
    "            n += 1\n",
    "        n2 += 1\n",
    "    n1 += 1\n",
    "    n2 = 0"
   ]
  },
  {
   "cell_type": "code",
   "execution_count": 54,
   "metadata": {},
   "outputs": [],
   "source": [
    "n = 0\n",
    "n1 = 0\n",
    "n2 = 0\n",
    "for i in numbers:\n",
    "    for k in numbers:\n",
    "        if i.name != k.name and n1 < n2:\n",
    "            mannwhitneyu(i,k)\n",
    "            if mannwhitneyu(i, k)[1] > 0.01:\n",
    "                table_uniformity.loc[n,'Ранговый кр. Выбрана Н0?'] = 1\n",
    "            else :\n",
    "                table_uniformity.loc[n,'Ранговый кр. Выбрана Н0?'] = 0\n",
    "            table_uniformity.loc[n,'N ст1'] = i.name\n",
    "            table_uniformity.loc[n,'N ст2'] = k.name\n",
    "            n += 1\n",
    "        n2 += 1\n",
    "    n1 += 1\n",
    "    n2 = 0\n"
   ]
  },
  {
   "cell_type": "code",
   "execution_count": 56,
   "metadata": {},
   "outputs": [
    {
     "data": {
      "text/html": [
       "<div>\n",
       "<style scoped>\n",
       "    .dataframe tbody tr th:only-of-type {\n",
       "        vertical-align: middle;\n",
       "    }\n",
       "\n",
       "    .dataframe tbody tr th {\n",
       "        vertical-align: top;\n",
       "    }\n",
       "\n",
       "    .dataframe thead th {\n",
       "        text-align: right;\n",
       "    }\n",
       "</style>\n",
       "<table border=\"1\" class=\"dataframe\">\n",
       "  <thead>\n",
       "    <tr style=\"text-align: right;\">\n",
       "      <th></th>\n",
       "      <th>N ст1</th>\n",
       "      <th>N ст2</th>\n",
       "      <th>мю1=мю2</th>\n",
       "      <th>D1=D2</th>\n",
       "      <th>Критерий К.-С. Выбрана Н0?</th>\n",
       "      <th>Ранговый кр. Выбрана Н0?</th>\n",
       "    </tr>\n",
       "  </thead>\n",
       "  <tbody>\n",
       "    <tr>\n",
       "      <th>0</th>\n",
       "      <td>two</td>\n",
       "      <td>three</td>\n",
       "      <td>1</td>\n",
       "      <td>0</td>\n",
       "      <td>1</td>\n",
       "      <td>1</td>\n",
       "    </tr>\n",
       "    <tr>\n",
       "      <th>1</th>\n",
       "      <td>two</td>\n",
       "      <td>four</td>\n",
       "      <td>0</td>\n",
       "      <td>0</td>\n",
       "      <td>0</td>\n",
       "      <td>0</td>\n",
       "    </tr>\n",
       "    <tr>\n",
       "      <th>2</th>\n",
       "      <td>two</td>\n",
       "      <td>five</td>\n",
       "      <td>1</td>\n",
       "      <td>0</td>\n",
       "      <td>0</td>\n",
       "      <td>1</td>\n",
       "    </tr>\n",
       "    <tr>\n",
       "      <th>3</th>\n",
       "      <td>two</td>\n",
       "      <td>six</td>\n",
       "      <td>0</td>\n",
       "      <td>0</td>\n",
       "      <td>0</td>\n",
       "      <td>0</td>\n",
       "    </tr>\n",
       "    <tr>\n",
       "      <th>4</th>\n",
       "      <td>two</td>\n",
       "      <td>seven</td>\n",
       "      <td>1</td>\n",
       "      <td>0</td>\n",
       "      <td>0</td>\n",
       "      <td>1</td>\n",
       "    </tr>\n",
       "    <tr>\n",
       "      <th>5</th>\n",
       "      <td>three</td>\n",
       "      <td>four</td>\n",
       "      <td>0</td>\n",
       "      <td>0</td>\n",
       "      <td>0</td>\n",
       "      <td>0</td>\n",
       "    </tr>\n",
       "    <tr>\n",
       "      <th>6</th>\n",
       "      <td>three</td>\n",
       "      <td>five</td>\n",
       "      <td>1</td>\n",
       "      <td>0</td>\n",
       "      <td>0</td>\n",
       "      <td>1</td>\n",
       "    </tr>\n",
       "    <tr>\n",
       "      <th>7</th>\n",
       "      <td>three</td>\n",
       "      <td>six</td>\n",
       "      <td>0</td>\n",
       "      <td>0</td>\n",
       "      <td>0</td>\n",
       "      <td>0</td>\n",
       "    </tr>\n",
       "    <tr>\n",
       "      <th>8</th>\n",
       "      <td>three</td>\n",
       "      <td>seven</td>\n",
       "      <td>1</td>\n",
       "      <td>0</td>\n",
       "      <td>0</td>\n",
       "      <td>1</td>\n",
       "    </tr>\n",
       "    <tr>\n",
       "      <th>9</th>\n",
       "      <td>four</td>\n",
       "      <td>five</td>\n",
       "      <td>0</td>\n",
       "      <td>0</td>\n",
       "      <td>0</td>\n",
       "      <td>0</td>\n",
       "    </tr>\n",
       "    <tr>\n",
       "      <th>10</th>\n",
       "      <td>four</td>\n",
       "      <td>six</td>\n",
       "      <td>1</td>\n",
       "      <td>0</td>\n",
       "      <td>0</td>\n",
       "      <td>1</td>\n",
       "    </tr>\n",
       "    <tr>\n",
       "      <th>11</th>\n",
       "      <td>four</td>\n",
       "      <td>seven</td>\n",
       "      <td>0</td>\n",
       "      <td>0</td>\n",
       "      <td>0</td>\n",
       "      <td>0</td>\n",
       "    </tr>\n",
       "    <tr>\n",
       "      <th>12</th>\n",
       "      <td>five</td>\n",
       "      <td>six</td>\n",
       "      <td>0</td>\n",
       "      <td>0</td>\n",
       "      <td>0</td>\n",
       "      <td>0</td>\n",
       "    </tr>\n",
       "    <tr>\n",
       "      <th>13</th>\n",
       "      <td>five</td>\n",
       "      <td>seven</td>\n",
       "      <td>1</td>\n",
       "      <td>0</td>\n",
       "      <td>0</td>\n",
       "      <td>0</td>\n",
       "    </tr>\n",
       "    <tr>\n",
       "      <th>14</th>\n",
       "      <td>six</td>\n",
       "      <td>seven</td>\n",
       "      <td>0</td>\n",
       "      <td>0</td>\n",
       "      <td>0</td>\n",
       "      <td>0</td>\n",
       "    </tr>\n",
       "  </tbody>\n",
       "</table>\n",
       "</div>"
      ],
      "text/plain": [
       "    N ст1  N ст2 мю1=мю2 D1=D2 Критерий К.-С. Выбрана Н0?  \\\n",
       "0     two  three       1     0                          1   \n",
       "1     two   four       0     0                          0   \n",
       "2     two   five       1     0                          0   \n",
       "3     two    six       0     0                          0   \n",
       "4     two  seven       1     0                          0   \n",
       "5   three   four       0     0                          0   \n",
       "6   three   five       1     0                          0   \n",
       "7   three    six       0     0                          0   \n",
       "8   three  seven       1     0                          0   \n",
       "9    four   five       0     0                          0   \n",
       "10   four    six       1     0                          0   \n",
       "11   four  seven       0     0                          0   \n",
       "12   five    six       0     0                          0   \n",
       "13   five  seven       1     0                          0   \n",
       "14    six  seven       0     0                          0   \n",
       "\n",
       "   Ранговый кр. Выбрана Н0?  \n",
       "0                         1  \n",
       "1                         0  \n",
       "2                         1  \n",
       "3                         0  \n",
       "4                         1  \n",
       "5                         0  \n",
       "6                         1  \n",
       "7                         0  \n",
       "8                         1  \n",
       "9                         0  \n",
       "10                        1  \n",
       "11                        0  \n",
       "12                        0  \n",
       "13                        0  \n",
       "14                        0  "
      ]
     },
     "execution_count": 56,
     "metadata": {},
     "output_type": "execute_result"
    }
   ],
   "source": [
    "table_uniformity"
   ]
  },
  {
   "cell_type": "code",
   "execution_count": null,
   "metadata": {},
   "outputs": [],
   "source": []
  }
 ],
 "metadata": {
  "kernelspec": {
   "display_name": "Python 3",
   "language": "python",
   "name": "python3"
  },
  "language_info": {
   "codemirror_mode": {
    "name": "ipython",
    "version": 3
   },
   "file_extension": ".py",
   "mimetype": "text/x-python",
   "name": "python",
   "nbconvert_exporter": "python",
   "pygments_lexer": "ipython3",
   "version": "3.7.1"
  }
 },
 "nbformat": 4,
 "nbformat_minor": 4
}
